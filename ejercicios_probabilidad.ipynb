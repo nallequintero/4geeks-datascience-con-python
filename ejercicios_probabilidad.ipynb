{
  "nbformat": 4,
  "nbformat_minor": 0,
  "metadata": {
    "colab": {
      "provenance": [],
      "authorship_tag": "ABX9TyPyTzTxy9LYeKGj/lqvGgFX",
      "include_colab_link": true
    },
    "kernelspec": {
      "name": "python3",
      "display_name": "Python 3"
    },
    "language_info": {
      "name": "python"
    }
  },
  "cells": [
    {
      "cell_type": "markdown",
      "metadata": {
        "id": "view-in-github",
        "colab_type": "text"
      },
      "source": [
        "<a href=\"https://colab.research.google.com/github/nallequintero/4geeks-datascience-con-python/blob/main/ejercicios_probabilidad.ipynb\" target=\"_parent\"><img src=\"https://colab.research.google.com/assets/colab-badge.svg\" alt=\"Open In Colab\"/></a>"
      ]
    },
    {
      "cell_type": "code",
      "source": [
        "# TODO\n",
        "import random #generador de numeros aleatorios\n",
        "import numpy as np\n",
        "import pandas as pd\n",
        "import matplotlib.pyplot as plot\n",
        "\n",
        "n_experimentos =1000\n",
        "contador = 0\n",
        "# simulacion\n",
        "for i in range(n_experimentos):\n",
        "    # lanzamiento de dos dados aleatoriamente\n",
        "    dado_1 = random.randrange(1,7)\n",
        "    dado_2 = random.randrange(1,7)\n",
        "\n",
        "    # suma de los resultados de los dados\n",
        "    suma = dado_1 + dado_2\n",
        "\n",
        "    # establezco la condicion para sumarle al contador\n",
        "    if (suma > 7) or (suma %2 == 0):\n",
        "        contador += 1\n",
        "print(f'La probabilidad estimada de que la puntuación sea un número par o mayor a 7 es: {contador / n_experimentos}')"
      ],
      "metadata": {
        "colab": {
          "base_uri": "https://localhost:8080/"
        },
        "id": "wztPq5eC5WXw",
        "outputId": "56a8e17a-9450-4871-fb64-5d8d16c19d81"
      },
      "execution_count": 1,
      "outputs": [
        {
          "output_type": "stream",
          "name": "stdout",
          "text": [
            "La probabilidad estimada de que la puntuación sea un número par o mayor a 7 es: 0.663\n"
          ]
        }
      ]
    },
    {
      "cell_type": "code",
      "source": [
        "# Create the box of balls\n",
        "ball_box = {}\n",
        "\n",
        "for i in range(60):\n",
        "    if i < 10:\n",
        "        ball_box[i] = \"White\"\n",
        "    elif (i > 9) and (i < 30):\n",
        "        ball_box[i] = \"Red\"\n",
        "    else:\n",
        "        ball_box[i] = \"Green\"\n",
        "\n",
        "#print(ball_box)"
      ],
      "metadata": {
        "id": "XxR34zMPBfLA"
      },
      "execution_count": 2,
      "outputs": []
    },
    {
      "cell_type": "code",
      "source": [
        "n_experimentos =2000000\n",
        "contador_1 = 0\n",
        "contador_2 = 0\n",
        "\n",
        "#simulacion\n",
        "\n",
        "for i in range(n_experimentos):\n",
        "  bolas_color = []\n",
        "  for i in range(5):\n",
        "    bolas_color.append(random.choice(list(ball_box.values())))\n",
        "  # reviso las bolas y los colores\n",
        "  bolas_rojas = sum([1 for i in bolas_color if i == \"Red\"])\n",
        "  bolas_blancas = sum([1 for i in bolas_color if i == \"White\"])\n",
        "  bolas_verdes = sum([1 for i in bolas_color if i == \"Green\"])\n",
        "\n",
        "  if (bolas_blancas == 3) and (bolas_rojas == 2):\n",
        "    contador_1 += 1\n",
        "\n",
        "  if (bolas_blancas == 5) | (bolas_rojas == 5) | (bolas_verdes == 5):\n",
        "    contador_2 += 1\n",
        "\n",
        "print(f'La probabilidad estimada de sacar 3 blancas y 2 rojas es: {contador_1 / n_experimentos*100}')\n",
        "print(f'La probabilidad estimada de sacar 5 bolas del mismo color: {contador_2 / n_experimentos*100}')"
      ],
      "metadata": {
        "colab": {
          "base_uri": "https://localhost:8080/"
        },
        "id": "7Eeh_Cy5Hmph",
        "outputId": "a28a00e7-9001-4031-8951-03add050d8d9"
      },
      "execution_count": 3,
      "outputs": [
        {
          "output_type": "stream",
          "name": "stdout",
          "text": [
            "La probabilidad estimada de sacar 3 blancas y 2 rojas es: 0.5182\n",
            "La probabilidad estimada de sacar 5 bolas del mismo color: 3.55445\n"
          ]
        }
      ]
    }
  ]
}